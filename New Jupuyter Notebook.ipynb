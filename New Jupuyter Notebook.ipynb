{
 "cells": [
  {
   "cell_type": "markdown",
   "id": "8d8c7a96",
   "metadata": {},
   "source": [
    "# <center>My Jupyter Notebook on IBM Watson Studio</center>"
   ]
  },
  {
   "cell_type": "markdown",
   "id": "3b2a86a8",
   "metadata": {},
   "source": [
    "## CHRISTOPHER A. EREFOROKUMA\n",
    "CHEMICAL ENGINEER"
   ]
  },
  {
   "cell_type": "markdown",
   "id": "cd4796a4",
   "metadata": {},
   "source": [
    "*My Interest for Data Science comes from my love numbers and how they tell stories. The prospect of applying the Data Science in Finance, Engineering and Medical Sciences keeps driving me forward*"
   ]
  },
  {
   "cell_type": "markdown",
   "id": "985fcc58",
   "metadata": {},
   "source": [
    "### The Code below is written to declare variables first_name and college_major and also print out these variables in a sentence"
   ]
  },
  {
   "cell_type": "code",
   "execution_count": 2,
   "id": "7ba78325",
   "metadata": {},
   "outputs": [
    {
     "name": "stdout",
     "output_type": "stream",
     "text": [
      "Hi, I'm Chris. I majored in Chemical Engineering.\n"
     ]
    }
   ],
   "source": [
    "first_name = \"Chris\"\n",
    "college_major = \"Chemical Engineering\"\n",
    "\n",
    "print(f\"Hi, I'm {first_name}. I majored in {college_major}.\")"
   ]
  },
  {
   "attachments": {},
   "cell_type": "markdown",
   "id": "428e0717",
   "metadata": {},
   "source": [
    "\n",
    "\n",
    "\n",
    "\n",
    "\n",
    "### Christopher A. N. Ereforokuma\n",
    "___\n",
    "B.Eng Chemical Engineering\n",
    "\n",
    "\n",
    "\n",
    "\n",
    "\n",
    "\n",
    "#### Previous Roles\n",
    "___\n",
    "| S/No. | Role    | Salary |\n",
    "|--- |----------| ------|\n",
    "| 01 | Graduate Trainne at NCDMB |N27,000 |\n",
    "| 02 |       Technical Engineer at Mansfield Energy NL |  N150,000 |\n",
    "| 03 | HSE Engineer at SAIPEM NL  | N250,000 |\n",
    "\n",
    "\n"
   ]
  },
  {
   "cell_type": "code",
   "execution_count": null,
   "id": "125a30a8",
   "metadata": {},
   "outputs": [],
   "source": []
  }
 ],
 "metadata": {
  "kernelspec": {
   "display_name": "Python 3 (ipykernel)",
   "language": "python",
   "name": "python3"
  },
  "language_info": {
   "codemirror_mode": {
    "name": "ipython",
    "version": 3
   },
   "file_extension": ".py",
   "mimetype": "text/x-python",
   "name": "python",
   "nbconvert_exporter": "python",
   "pygments_lexer": "ipython3",
   "version": "3.9.12"
  }
 },
 "nbformat": 4,
 "nbformat_minor": 5
}
