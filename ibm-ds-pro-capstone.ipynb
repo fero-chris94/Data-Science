{
 "cells": [
  {
   "cell_type": "code",
   "execution_count": 1,
   "id": "be606809",
   "metadata": {},
   "outputs": [
    {
     "name": "stdout",
     "output_type": "stream",
     "text": [
      "Defaulting to user installation because normal site-packages is not writeable\n",
      "Requirement already satisfied: pandas in c:\\programdata\\anaconda3\\lib\\site-packages (1.4.2)\n",
      "Requirement already satisfied: dash in c:\\users\\ceref\\appdata\\roaming\\python\\python39\\site-packages (2.7.1)\n",
      "Requirement already satisfied: python-dateutil>=2.8.1 in c:\\programdata\\anaconda3\\lib\\site-packages (from pandas) (2.8.2)\n",
      "Requirement already satisfied: pytz>=2020.1 in c:\\programdata\\anaconda3\\lib\\site-packages (from pandas) (2021.3)\n",
      "Requirement already satisfied: numpy>=1.18.5 in c:\\programdata\\anaconda3\\lib\\site-packages (from pandas) (1.21.5)\n",
      "Requirement already satisfied: dash-html-components==2.0.0 in c:\\users\\ceref\\appdata\\roaming\\python\\python39\\site-packages (from dash) (2.0.0)\n",
      "Requirement already satisfied: Flask>=1.0.4 in c:\\programdata\\anaconda3\\lib\\site-packages (from dash) (1.1.2)\n",
      "Requirement already satisfied: dash-table==5.0.0 in c:\\users\\ceref\\appdata\\roaming\\python\\python39\\site-packages (from dash) (5.0.0)\n",
      "Requirement already satisfied: plotly>=5.0.0 in c:\\programdata\\anaconda3\\lib\\site-packages (from dash) (5.6.0)\n",
      "Requirement already satisfied: dash-core-components==2.0.0 in c:\\users\\ceref\\appdata\\roaming\\python\\python39\\site-packages (from dash) (2.0.0)\n",
      "Requirement already satisfied: itsdangerous>=0.24 in c:\\programdata\\anaconda3\\lib\\site-packages (from Flask>=1.0.4->dash) (2.0.1)\n",
      "Requirement already satisfied: click>=5.1 in c:\\programdata\\anaconda3\\lib\\site-packages (from Flask>=1.0.4->dash) (8.0.4)\n",
      "Requirement already satisfied: Werkzeug>=0.15 in c:\\programdata\\anaconda3\\lib\\site-packages (from Flask>=1.0.4->dash) (2.0.3)\n",
      "Requirement already satisfied: Jinja2>=2.10.1 in c:\\programdata\\anaconda3\\lib\\site-packages (from Flask>=1.0.4->dash) (2.11.3)\n",
      "Requirement already satisfied: colorama in c:\\programdata\\anaconda3\\lib\\site-packages (from click>=5.1->Flask>=1.0.4->dash) (0.4.4)\n",
      "Requirement already satisfied: MarkupSafe>=0.23 in c:\\programdata\\anaconda3\\lib\\site-packages (from Jinja2>=2.10.1->Flask>=1.0.4->dash) (2.0.1)\n",
      "Requirement already satisfied: six in c:\\programdata\\anaconda3\\lib\\site-packages (from plotly>=5.0.0->dash) (1.16.0)\n",
      "Requirement already satisfied: tenacity>=6.2.0 in c:\\programdata\\anaconda3\\lib\\site-packages (from plotly>=5.0.0->dash) (8.0.1)\n"
     ]
    }
   ],
   "source": [
    "!pip3 install pandas dash"
   ]
  },
  {
   "cell_type": "code",
   "execution_count": 2,
   "id": "02a356b8",
   "metadata": {},
   "outputs": [
    {
     "name": "stdout",
     "output_type": "stream",
     "text": [
      "Defaulting to user installation because normal site-packages is not writeable\n",
      "Collecting wget\n",
      "  Downloading wget-3.2.zip (10 kB)\n",
      "Building wheels for collected packages: wget\n",
      "  Building wheel for wget (setup.py): started\n",
      "  Building wheel for wget (setup.py): finished with status 'done'\n",
      "  Created wheel for wget: filename=wget-3.2-py3-none-any.whl size=9675 sha256=8bd447c1d43168a6dd7b5416b94e860ab3ec97c20d52ee17ed721e099e149968\n",
      "  Stored in directory: c:\\users\\ceref\\appdata\\local\\pip\\cache\\wheels\\04\\5f\\3e\\46cc37c5d698415694d83f607f833f83f0149e49b3af9d0f38\n",
      "Successfully built wget\n",
      "Installing collected packages: wget\n",
      "Successfully installed wget-3.2\n"
     ]
    }
   ],
   "source": [
    "!pip install wget"
   ]
  },
  {
   "cell_type": "code",
   "execution_count": 3,
   "id": "65b554d8",
   "metadata": {},
   "outputs": [
    {
     "name": "stdout",
     "output_type": "stream",
     "text": [
      "\n",
      "Saved under spacex_launch_dash.csv\n"
     ]
    }
   ],
   "source": [
    "!python -m wget \"https://cf-courses-data.s3.us.cloud-object-storage.appdomain.cloud/IBM-DS0321EN-SkillsNetwork/datasets/spacex_launch_dash.csv\""
   ]
  },
  {
   "cell_type": "code",
   "execution_count": 4,
   "id": "2fd788f7",
   "metadata": {},
   "outputs": [
    {
     "name": "stderr",
     "output_type": "stream",
     "text": [
      "C:\\Users\\ceref\\AppData\\Local\\Temp\\ipykernel_16580\\1399112611.py:4: UserWarning: \n",
      "The dash_html_components package is deprecated. Please replace\n",
      "`import dash_html_components as html` with `from dash import html`\n",
      "  import dash_html_components as html\n",
      "C:\\Users\\ceref\\AppData\\Local\\Temp\\ipykernel_16580\\1399112611.py:5: UserWarning: \n",
      "The dash_core_components package is deprecated. Please replace\n",
      "`import dash_core_components as dcc` with `from dash import dcc`\n",
      "  import dash_core_components as dcc\n"
     ]
    }
   ],
   "source": [
    "# Import required libraries\n",
    "import pandas as pd\n",
    "import dash\n",
    "import dash_html_components as html\n",
    "import dash_core_components as dcc\n",
    "from dash.dependencies import Input, Output\n",
    "import plotly.express as px"
   ]
  },
  {
   "cell_type": "code",
   "execution_count": 5,
   "id": "3f1ae2b0",
   "metadata": {},
   "outputs": [],
   "source": [
    "# Read the airline data into pandas dataframe\n",
    "spacex_df = pd.read_csv(\"spacex_launch_dash.csv\")\n",
    "max_payload = spacex_df['Payload Mass (kg)'].max()\n",
    "min_payload = spacex_df['Payload Mass (kg)'].min()"
   ]
  },
  {
   "cell_type": "code",
   "execution_count": 6,
   "id": "5f4fc493",
   "metadata": {},
   "outputs": [],
   "source": [
    "# Calculate other useful data.\n",
    "payload_mark_values = range(0, 11000, 1000)\n",
    "payload_mark_dict = dict(zip(payload_mark_values, payload_mark_values))\n",
    "\n",
    "launch_sites = spacex_df['Launch Site'].unique().tolist()\n",
    "launch_site_options = [{'label': 'All Sites','value': 'ALL'}, *[{'label': site,'value': site} for site in launch_sites]]"
   ]
  },
  {
   "cell_type": "code",
   "execution_count": 7,
   "id": "de64c8e8",
   "metadata": {},
   "outputs": [],
   "source": [
    "# Create a dash application\n",
    "app = dash.Dash(__name__)"
   ]
  },
  {
   "cell_type": "code",
   "execution_count": 8,
   "id": "122d4eb7",
   "metadata": {},
   "outputs": [],
   "source": [
    "# Create an app layout\n",
    "app.layout = html.Div(\n",
    "    children=[\n",
    "        html.H1(\n",
    "            'SpaceX Launch Records Dashboard',\n",
    "            style={\n",
    "                'textAlign': 'center',\n",
    "                'color': '#503D36',\n",
    "                'font-size': 40,\n",
    "            }\n",
    "        ),\n",
    "\n",
    "        # TASK 1: Add a dropdown list to enable Launch Site selection\n",
    "        # The default select value is for ALL sites\n",
    "        # dcc.Dropdown(id='site-dropdown',...)\n",
    "        dcc.Dropdown(\n",
    "            id='site-dropdown',\n",
    "            options=launch_site_options,\n",
    "            value='ALL',\n",
    "            placeholder=\"Select a launch site here\",\n",
    "            searchable=True\n",
    "        ),\n",
    "        html.Br(),\n",
    "        \n",
    "        # TASK 2: Add a pie chart to show the total successful launches count for all sites\n",
    "        # If a specific launch site was selected, show the Success vs. Failed counts for the site\n",
    "        html.Div(\n",
    "            dcc.Graph(\n",
    "                id='success-pie-chart'\n",
    "            )\n",
    "        ),\n",
    "        html.Br(),\n",
    "\n",
    "        # TASK 3: Add a slider to select payload range\n",
    "        html.P(\n",
    "            \"Payload range (Kg):\"\n",
    "        ),\n",
    "        dcc.RangeSlider(\n",
    "            id='payload-slider',\n",
    "            min=0,\n",
    "            max=10000,\n",
    "            step=1000,\n",
    "            value=[0,10000],\n",
    "            marks=payload_mark_dict\n",
    "        ),\n",
    "        \n",
    "        # TASK 4: Add a scatter chart to show the correlation between payload and launch success\n",
    "        html.Div(\n",
    "            dcc.Graph(\n",
    "                id='success-payload-scatter-chart'\n",
    "            )\n",
    "        ),\n",
    "    ]\n",
    ")"
   ]
  },
  {
   "cell_type": "code",
   "execution_count": 9,
   "id": "5e2aa13b",
   "metadata": {},
   "outputs": [],
   "source": [
    "# TASK 2:\n",
    "# Add a callback function for `site-dropdown` as input, `success-pie-chart` as output\n",
    "# Function decorator to specify function input and output\n",
    "@app.callback(\n",
    "    Output(\n",
    "        component_id='success-pie-chart',\n",
    "        component_property='figure'\n",
    "    ),\n",
    "    Input(\n",
    "        component_id='site-dropdown',\n",
    "        component_property='value'\n",
    "    )\n",
    ")\n",
    "def get_pie_chart(selected_site):\n",
    "    if selected_site == 'ALL':\n",
    "        data = spacex_df[spacex_df['class'] == 1]\n",
    "        names = 'Launch Site'\n",
    "        title='Total successful launches by site'\n",
    "    else:\n",
    "        data = spacex_df[spacex_df['Launch Site'] == selected_site]\n",
    "        names = 'class'\n",
    "        title=f'Total succesful launches for site {selected_site}'\n",
    "    return px.pie(data, names=names, title=title)"
   ]
  },
  {
   "cell_type": "code",
   "execution_count": 10,
   "id": "c182ac46",
   "metadata": {},
   "outputs": [],
   "source": [
    "\n",
    "# TASK 4:\n",
    "# Add a callback function for `site-dropdown` and `payload-slider` as inputs, `success-payload-scatter-chart` as output\n",
    "@app.callback(\n",
    "    Output(\n",
    "        component_id='success-payload-scatter-chart',\n",
    "        component_property='figure'\n",
    "    ),\n",
    "    [\n",
    "        Input(\n",
    "            component_id='site-dropdown',\n",
    "            component_property='value'\n",
    "        ),\n",
    "        Input(\n",
    "            component_id=\"payload-slider\",\n",
    "            component_property=\"value\"\n",
    "        )\n",
    "    ]\n",
    ")\n",
    "def get_scatter_chart(selected_site, selected_payload_range):\n",
    "    low, high = selected_payload_range\n",
    "    payload_mask = (spacex_df['Payload Mass (kg)'] > low) & (spacex_df['Payload Mass (kg)'] < high)\n",
    "    if selected_site == 'ALL':\n",
    "        filtered_df = spacex_df[payload_mask]\n",
    "    else:\n",
    "        filtered_df = spacex_df[payload_mask]\n",
    "        filtered_df = filtered_df.loc[filtered_df['Launch Site'] == selected_site]\n",
    "    return px.scatter(\n",
    "            filtered_df,\n",
    "            x='Payload Mass (kg)',\n",
    "            y='class', \n",
    "            color='Booster Version',\n",
    "            hover_data=['Payload Mass (kg)']\n",
    "        )\n",
    "\n"
   ]
  },
  {
   "cell_type": "code",
   "execution_count": null,
   "id": "73a1ca5e",
   "metadata": {},
   "outputs": [
    {
     "name": "stdout",
     "output_type": "stream",
     "text": [
      "Dash is running on http://127.0.0.1:8050/\n",
      "\n",
      " * Serving Flask app \"__main__\" (lazy loading)\n",
      " * Environment: production\n",
      "\u001b[31m   WARNING: This is a development server. Do not use it in a production deployment.\u001b[0m\n",
      "\u001b[2m   Use a production WSGI server instead.\u001b[0m\n",
      " * Debug mode: off\n"
     ]
    }
   ],
   "source": [
    "# Run the app\n",
    "# if __name__ == '__main__': # If file, but running from notebook, here.\n",
    "app.run_server(dev_tools_silence_routes_logging=True)"
   ]
  },
  {
   "cell_type": "code",
   "execution_count": null,
   "id": "a8755cc5",
   "metadata": {},
   "outputs": [],
   "source": []
  }
 ],
 "metadata": {
  "kernelspec": {
   "display_name": "Python 3 (ipykernel)",
   "language": "python",
   "name": "python3"
  },
  "language_info": {
   "codemirror_mode": {
    "name": "ipython",
    "version": 3
   },
   "file_extension": ".py",
   "mimetype": "text/x-python",
   "name": "python",
   "nbconvert_exporter": "python",
   "pygments_lexer": "ipython3",
   "version": "3.9.12"
  }
 },
 "nbformat": 4,
 "nbformat_minor": 5
}
